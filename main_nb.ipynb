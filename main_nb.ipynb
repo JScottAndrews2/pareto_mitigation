{
 "cells": [
  {
   "cell_type": "code",
   "execution_count": 1,
   "id": "916d4b7a",
   "metadata": {},
   "outputs": [],
   "source": [
    "import pandas as pd\n",
    "import numpy as np\n",
    "import matplotlib.pyplot as plt\n",
    "from sklearn import metrics as skm\n",
    "from sklearn.linear_model import LogisticRegression\n",
    "from sklearn.model_selection import train_test_split\n",
    "from sklearn.preprocessing import LabelEncoder, StandardScaler\n",
    "from fairlearn.datasets import fetch_adult\n",
    "from fairlearn.reductions import DemographicParity, ErrorRate, GridSearch\n",
    "from fairlearn.metrics import MetricFrame, selection_rate, count"
   ]
  },
  {
   "cell_type": "markdown",
   "id": "6474f4a5",
   "metadata": {},
   "source": [
    "Parameter set-up. Note that features are independent variables and target is the dependent variable"
   ]
  },
  {
   "cell_type": "code",
   "execution_count": 2,
   "id": "99e16546",
   "metadata": {},
   "outputs": [],
   "source": [
    "features = ['age', 'workclass', 'fnlwgt', 'education', 'education_num', 'marital_status', 'occupation',\n",
    "            'relationship', 'race', 'capital_gain', 'capital_loss', 'hours_per_week', 'native_country']\n",
    "target = 'income'"
   ]
  },
  {
   "cell_type": "markdown",
   "id": "15d258ea",
   "metadata": {},
   "source": [
    "# Import the data"
   ]
  },
  {
   "cell_type": "markdown",
   "id": "11b3ec5d",
   "metadata": {},
   "source": [
    "The data fetch is not working correctly after the last update. I've created a copy of the data and placed it in the data folder. This is the same data the authors' used in their study and it can be found on the UCI database here: https://archive.ics.uci.edu/ml/datasets/adult"
   ]
  },
  {
   "cell_type": "code",
   "execution_count": 3,
   "id": "4d57fd4d",
   "metadata": {},
   "outputs": [],
   "source": [
    "data = pd.read_csv('data/adult_census.csv')"
   ]
  },
  {
   "cell_type": "code",
   "execution_count": 4,
   "id": "ce5c1100",
   "metadata": {},
   "outputs": [
    {
     "data": {
      "text/html": [
       "<div>\n",
       "<style scoped>\n",
       "    .dataframe tbody tr th:only-of-type {\n",
       "        vertical-align: middle;\n",
       "    }\n",
       "\n",
       "    .dataframe tbody tr th {\n",
       "        vertical-align: top;\n",
       "    }\n",
       "\n",
       "    .dataframe thead th {\n",
       "        text-align: right;\n",
       "    }\n",
       "</style>\n",
       "<table border=\"1\" class=\"dataframe\">\n",
       "  <thead>\n",
       "    <tr style=\"text-align: right;\">\n",
       "      <th></th>\n",
       "      <th>Unnamed: 0</th>\n",
       "      <th>age</th>\n",
       "      <th>workclass</th>\n",
       "      <th>fnlwgt</th>\n",
       "      <th>education</th>\n",
       "      <th>education_num</th>\n",
       "      <th>marital_status</th>\n",
       "      <th>occupation</th>\n",
       "      <th>relationship</th>\n",
       "      <th>race</th>\n",
       "      <th>sex</th>\n",
       "      <th>capital_gain</th>\n",
       "      <th>capital_loss</th>\n",
       "      <th>hours_per_week</th>\n",
       "      <th>native_country</th>\n",
       "      <th>income</th>\n",
       "    </tr>\n",
       "  </thead>\n",
       "  <tbody>\n",
       "    <tr>\n",
       "      <th>0</th>\n",
       "      <td>0</td>\n",
       "      <td>50</td>\n",
       "      <td>Self-emp-not-inc</td>\n",
       "      <td>83311</td>\n",
       "      <td>Bachelors</td>\n",
       "      <td>13</td>\n",
       "      <td>Married-civ-spouse</td>\n",
       "      <td>Exec-managerial</td>\n",
       "      <td>Husband</td>\n",
       "      <td>White</td>\n",
       "      <td>Male</td>\n",
       "      <td>0</td>\n",
       "      <td>0</td>\n",
       "      <td>13</td>\n",
       "      <td>United-States</td>\n",
       "      <td>0</td>\n",
       "    </tr>\n",
       "    <tr>\n",
       "      <th>1</th>\n",
       "      <td>1</td>\n",
       "      <td>38</td>\n",
       "      <td>Private</td>\n",
       "      <td>215646</td>\n",
       "      <td>HS-grad</td>\n",
       "      <td>9</td>\n",
       "      <td>Divorced</td>\n",
       "      <td>Handlers-cleaners</td>\n",
       "      <td>Not-in-family</td>\n",
       "      <td>White</td>\n",
       "      <td>Male</td>\n",
       "      <td>0</td>\n",
       "      <td>0</td>\n",
       "      <td>40</td>\n",
       "      <td>United-States</td>\n",
       "      <td>0</td>\n",
       "    </tr>\n",
       "    <tr>\n",
       "      <th>2</th>\n",
       "      <td>2</td>\n",
       "      <td>53</td>\n",
       "      <td>Private</td>\n",
       "      <td>234721</td>\n",
       "      <td>11th</td>\n",
       "      <td>7</td>\n",
       "      <td>Married-civ-spouse</td>\n",
       "      <td>Handlers-cleaners</td>\n",
       "      <td>Husband</td>\n",
       "      <td>Black</td>\n",
       "      <td>Male</td>\n",
       "      <td>0</td>\n",
       "      <td>0</td>\n",
       "      <td>40</td>\n",
       "      <td>United-States</td>\n",
       "      <td>0</td>\n",
       "    </tr>\n",
       "    <tr>\n",
       "      <th>3</th>\n",
       "      <td>3</td>\n",
       "      <td>28</td>\n",
       "      <td>Private</td>\n",
       "      <td>338409</td>\n",
       "      <td>Bachelors</td>\n",
       "      <td>13</td>\n",
       "      <td>Married-civ-spouse</td>\n",
       "      <td>Prof-specialty</td>\n",
       "      <td>Wife</td>\n",
       "      <td>Black</td>\n",
       "      <td>Female</td>\n",
       "      <td>0</td>\n",
       "      <td>0</td>\n",
       "      <td>40</td>\n",
       "      <td>Cuba</td>\n",
       "      <td>0</td>\n",
       "    </tr>\n",
       "    <tr>\n",
       "      <th>4</th>\n",
       "      <td>4</td>\n",
       "      <td>37</td>\n",
       "      <td>Private</td>\n",
       "      <td>284582</td>\n",
       "      <td>Masters</td>\n",
       "      <td>14</td>\n",
       "      <td>Married-civ-spouse</td>\n",
       "      <td>Exec-managerial</td>\n",
       "      <td>Wife</td>\n",
       "      <td>White</td>\n",
       "      <td>Female</td>\n",
       "      <td>0</td>\n",
       "      <td>0</td>\n",
       "      <td>40</td>\n",
       "      <td>United-States</td>\n",
       "      <td>0</td>\n",
       "    </tr>\n",
       "    <tr>\n",
       "      <th>...</th>\n",
       "      <td>...</td>\n",
       "      <td>...</td>\n",
       "      <td>...</td>\n",
       "      <td>...</td>\n",
       "      <td>...</td>\n",
       "      <td>...</td>\n",
       "      <td>...</td>\n",
       "      <td>...</td>\n",
       "      <td>...</td>\n",
       "      <td>...</td>\n",
       "      <td>...</td>\n",
       "      <td>...</td>\n",
       "      <td>...</td>\n",
       "      <td>...</td>\n",
       "      <td>...</td>\n",
       "      <td>...</td>\n",
       "    </tr>\n",
       "    <tr>\n",
       "      <th>32555</th>\n",
       "      <td>32555</td>\n",
       "      <td>27</td>\n",
       "      <td>Private</td>\n",
       "      <td>257302</td>\n",
       "      <td>Assoc-acdm</td>\n",
       "      <td>12</td>\n",
       "      <td>Married-civ-spouse</td>\n",
       "      <td>Tech-support</td>\n",
       "      <td>Wife</td>\n",
       "      <td>White</td>\n",
       "      <td>Female</td>\n",
       "      <td>0</td>\n",
       "      <td>0</td>\n",
       "      <td>38</td>\n",
       "      <td>United-States</td>\n",
       "      <td>0</td>\n",
       "    </tr>\n",
       "    <tr>\n",
       "      <th>32556</th>\n",
       "      <td>32556</td>\n",
       "      <td>40</td>\n",
       "      <td>Private</td>\n",
       "      <td>154374</td>\n",
       "      <td>HS-grad</td>\n",
       "      <td>9</td>\n",
       "      <td>Married-civ-spouse</td>\n",
       "      <td>Machine-op-inspct</td>\n",
       "      <td>Husband</td>\n",
       "      <td>White</td>\n",
       "      <td>Male</td>\n",
       "      <td>0</td>\n",
       "      <td>0</td>\n",
       "      <td>40</td>\n",
       "      <td>United-States</td>\n",
       "      <td>1</td>\n",
       "    </tr>\n",
       "    <tr>\n",
       "      <th>32557</th>\n",
       "      <td>32557</td>\n",
       "      <td>58</td>\n",
       "      <td>Private</td>\n",
       "      <td>151910</td>\n",
       "      <td>HS-grad</td>\n",
       "      <td>9</td>\n",
       "      <td>Widowed</td>\n",
       "      <td>Adm-clerical</td>\n",
       "      <td>Unmarried</td>\n",
       "      <td>White</td>\n",
       "      <td>Female</td>\n",
       "      <td>0</td>\n",
       "      <td>0</td>\n",
       "      <td>40</td>\n",
       "      <td>United-States</td>\n",
       "      <td>0</td>\n",
       "    </tr>\n",
       "    <tr>\n",
       "      <th>32558</th>\n",
       "      <td>32558</td>\n",
       "      <td>22</td>\n",
       "      <td>Private</td>\n",
       "      <td>201490</td>\n",
       "      <td>HS-grad</td>\n",
       "      <td>9</td>\n",
       "      <td>Never-married</td>\n",
       "      <td>Adm-clerical</td>\n",
       "      <td>Own-child</td>\n",
       "      <td>White</td>\n",
       "      <td>Male</td>\n",
       "      <td>0</td>\n",
       "      <td>0</td>\n",
       "      <td>20</td>\n",
       "      <td>United-States</td>\n",
       "      <td>0</td>\n",
       "    </tr>\n",
       "    <tr>\n",
       "      <th>32559</th>\n",
       "      <td>32559</td>\n",
       "      <td>52</td>\n",
       "      <td>Self-emp-inc</td>\n",
       "      <td>287927</td>\n",
       "      <td>HS-grad</td>\n",
       "      <td>9</td>\n",
       "      <td>Married-civ-spouse</td>\n",
       "      <td>Exec-managerial</td>\n",
       "      <td>Wife</td>\n",
       "      <td>White</td>\n",
       "      <td>Female</td>\n",
       "      <td>15024</td>\n",
       "      <td>0</td>\n",
       "      <td>40</td>\n",
       "      <td>United-States</td>\n",
       "      <td>1</td>\n",
       "    </tr>\n",
       "  </tbody>\n",
       "</table>\n",
       "<p>32560 rows × 16 columns</p>\n",
       "</div>"
      ],
      "text/plain": [
       "       Unnamed: 0  age          workclass  fnlwgt    education  education_num   \n",
       "0               0   50   Self-emp-not-inc   83311    Bachelors             13  \\\n",
       "1               1   38            Private  215646      HS-grad              9   \n",
       "2               2   53            Private  234721         11th              7   \n",
       "3               3   28            Private  338409    Bachelors             13   \n",
       "4               4   37            Private  284582      Masters             14   \n",
       "...           ...  ...                ...     ...          ...            ...   \n",
       "32555       32555   27            Private  257302   Assoc-acdm             12   \n",
       "32556       32556   40            Private  154374      HS-grad              9   \n",
       "32557       32557   58            Private  151910      HS-grad              9   \n",
       "32558       32558   22            Private  201490      HS-grad              9   \n",
       "32559       32559   52       Self-emp-inc  287927      HS-grad              9   \n",
       "\n",
       "            marital_status          occupation    relationship    race   \n",
       "0       Married-civ-spouse     Exec-managerial         Husband   White  \\\n",
       "1                 Divorced   Handlers-cleaners   Not-in-family   White   \n",
       "2       Married-civ-spouse   Handlers-cleaners         Husband   Black   \n",
       "3       Married-civ-spouse      Prof-specialty            Wife   Black   \n",
       "4       Married-civ-spouse     Exec-managerial            Wife   White   \n",
       "...                    ...                 ...             ...     ...   \n",
       "32555   Married-civ-spouse        Tech-support            Wife   White   \n",
       "32556   Married-civ-spouse   Machine-op-inspct         Husband   White   \n",
       "32557              Widowed        Adm-clerical       Unmarried   White   \n",
       "32558        Never-married        Adm-clerical       Own-child   White   \n",
       "32559   Married-civ-spouse     Exec-managerial            Wife   White   \n",
       "\n",
       "           sex  capital_gain  capital_loss  hours_per_week  native_country   \n",
       "0         Male             0             0              13   United-States  \\\n",
       "1         Male             0             0              40   United-States   \n",
       "2         Male             0             0              40   United-States   \n",
       "3       Female             0             0              40            Cuba   \n",
       "4       Female             0             0              40   United-States   \n",
       "...        ...           ...           ...             ...             ...   \n",
       "32555   Female             0             0              38   United-States   \n",
       "32556     Male             0             0              40   United-States   \n",
       "32557   Female             0             0              40   United-States   \n",
       "32558     Male             0             0              20   United-States   \n",
       "32559   Female         15024             0              40   United-States   \n",
       "\n",
       "       income  \n",
       "0           0  \n",
       "1           0  \n",
       "2           0  \n",
       "3           0  \n",
       "4           0  \n",
       "...       ...  \n",
       "32555       0  \n",
       "32556       1  \n",
       "32557       0  \n",
       "32558       0  \n",
       "32559       1  \n",
       "\n",
       "[32560 rows x 16 columns]"
      ]
     },
     "execution_count": 4,
     "metadata": {},
     "output_type": "execute_result"
    }
   ],
   "source": [
    "data = data.replace(to_replace={target: {\" <=50K\": 0, \" >50K\": 1}}, inplace=False)\n",
    "data"
   ]
  },
  {
   "cell_type": "markdown",
   "id": "62512f39",
   "metadata": {},
   "source": [
    "Create the feautres, target, and protected attribute sets"
   ]
  },
  {
   "cell_type": "code",
   "execution_count": 5,
   "id": "7daf5d94",
   "metadata": {},
   "outputs": [],
   "source": [
    "X = data.drop(columns=['sex'], inplace=False)\n",
    "Y = data[target]\n",
    "A = data['sex']"
   ]
  },
  {
   "cell_type": "markdown",
   "id": "24f3928d",
   "metadata": {},
   "source": [
    "dummy encoding for categorical variables"
   ]
  },
  {
   "cell_type": "code",
   "execution_count": 6,
   "id": "c72ea48a",
   "metadata": {},
   "outputs": [],
   "source": [
    "X = pd.get_dummies(X)"
   ]
  },
  {
   "cell_type": "markdown",
   "id": "1a169257",
   "metadata": {},
   "source": [
    "standardize variables"
   ]
  },
  {
   "cell_type": "code",
   "execution_count": 7,
   "id": "c5431f8b",
   "metadata": {},
   "outputs": [],
   "source": [
    "sc = StandardScaler()\n",
    "X_scaled = sc.fit_transform(X)\n",
    "X_scaled = pd.DataFrame(X_scaled, columns=X.columns)"
   ]
  },
  {
   "cell_type": "markdown",
   "id": "b2906f14",
   "metadata": {},
   "source": [
    "encode target"
   ]
  },
  {
   "cell_type": "code",
   "execution_count": 8,
   "id": "2601bc0f",
   "metadata": {},
   "outputs": [],
   "source": [
    "le = LabelEncoder()\n",
    "Y = le.fit_transform(Y)"
   ]
  },
  {
   "cell_type": "markdown",
   "id": "cd5ef7da",
   "metadata": {},
   "source": [
    "# Split Data"
   ]
  },
  {
   "cell_type": "markdown",
   "id": "7a733a99",
   "metadata": {},
   "source": [
    "Note that this process is somewhat unique because we need to split the third dataset containing the protected attribute. Fairlearn accepts this variable as its own dataset."
   ]
  },
  {
   "cell_type": "code",
   "execution_count": 9,
   "id": "fe8f0adc",
   "metadata": {},
   "outputs": [],
   "source": [
    "X_train, X_test, Y_train, Y_test, A_train, A_test = train_test_split(X_scaled, Y, A, test_size=0.4, random_state=123,\n",
    "                                                                     stratify=Y)"
   ]
  },
  {
   "cell_type": "markdown",
   "id": "398ef693",
   "metadata": {},
   "source": [
    "# Fit an Unmitigated Model"
   ]
  },
  {
   "cell_type": "code",
   "execution_count": 10,
   "id": "a33c0231",
   "metadata": {},
   "outputs": [
    {
     "data": {
      "text/html": [
       "<style>#sk-container-id-1 {color: black;background-color: white;}#sk-container-id-1 pre{padding: 0;}#sk-container-id-1 div.sk-toggleable {background-color: white;}#sk-container-id-1 label.sk-toggleable__label {cursor: pointer;display: block;width: 100%;margin-bottom: 0;padding: 0.3em;box-sizing: border-box;text-align: center;}#sk-container-id-1 label.sk-toggleable__label-arrow:before {content: \"▸\";float: left;margin-right: 0.25em;color: #696969;}#sk-container-id-1 label.sk-toggleable__label-arrow:hover:before {color: black;}#sk-container-id-1 div.sk-estimator:hover label.sk-toggleable__label-arrow:before {color: black;}#sk-container-id-1 div.sk-toggleable__content {max-height: 0;max-width: 0;overflow: hidden;text-align: left;background-color: #f0f8ff;}#sk-container-id-1 div.sk-toggleable__content pre {margin: 0.2em;color: black;border-radius: 0.25em;background-color: #f0f8ff;}#sk-container-id-1 input.sk-toggleable__control:checked~div.sk-toggleable__content {max-height: 200px;max-width: 100%;overflow: auto;}#sk-container-id-1 input.sk-toggleable__control:checked~label.sk-toggleable__label-arrow:before {content: \"▾\";}#sk-container-id-1 div.sk-estimator input.sk-toggleable__control:checked~label.sk-toggleable__label {background-color: #d4ebff;}#sk-container-id-1 div.sk-label input.sk-toggleable__control:checked~label.sk-toggleable__label {background-color: #d4ebff;}#sk-container-id-1 input.sk-hidden--visually {border: 0;clip: rect(1px 1px 1px 1px);clip: rect(1px, 1px, 1px, 1px);height: 1px;margin: -1px;overflow: hidden;padding: 0;position: absolute;width: 1px;}#sk-container-id-1 div.sk-estimator {font-family: monospace;background-color: #f0f8ff;border: 1px dotted black;border-radius: 0.25em;box-sizing: border-box;margin-bottom: 0.5em;}#sk-container-id-1 div.sk-estimator:hover {background-color: #d4ebff;}#sk-container-id-1 div.sk-parallel-item::after {content: \"\";width: 100%;border-bottom: 1px solid gray;flex-grow: 1;}#sk-container-id-1 div.sk-label:hover label.sk-toggleable__label {background-color: #d4ebff;}#sk-container-id-1 div.sk-serial::before {content: \"\";position: absolute;border-left: 1px solid gray;box-sizing: border-box;top: 0;bottom: 0;left: 50%;z-index: 0;}#sk-container-id-1 div.sk-serial {display: flex;flex-direction: column;align-items: center;background-color: white;padding-right: 0.2em;padding-left: 0.2em;position: relative;}#sk-container-id-1 div.sk-item {position: relative;z-index: 1;}#sk-container-id-1 div.sk-parallel {display: flex;align-items: stretch;justify-content: center;background-color: white;position: relative;}#sk-container-id-1 div.sk-item::before, #sk-container-id-1 div.sk-parallel-item::before {content: \"\";position: absolute;border-left: 1px solid gray;box-sizing: border-box;top: 0;bottom: 0;left: 50%;z-index: -1;}#sk-container-id-1 div.sk-parallel-item {display: flex;flex-direction: column;z-index: 1;position: relative;background-color: white;}#sk-container-id-1 div.sk-parallel-item:first-child::after {align-self: flex-end;width: 50%;}#sk-container-id-1 div.sk-parallel-item:last-child::after {align-self: flex-start;width: 50%;}#sk-container-id-1 div.sk-parallel-item:only-child::after {width: 0;}#sk-container-id-1 div.sk-dashed-wrapped {border: 1px dashed gray;margin: 0 0.4em 0.5em 0.4em;box-sizing: border-box;padding-bottom: 0.4em;background-color: white;}#sk-container-id-1 div.sk-label label {font-family: monospace;font-weight: bold;display: inline-block;line-height: 1.2em;}#sk-container-id-1 div.sk-label-container {text-align: center;}#sk-container-id-1 div.sk-container {/* jupyter's `normalize.less` sets `[hidden] { display: none; }` but bootstrap.min.css set `[hidden] { display: none !important; }` so we also need the `!important` here to be able to override the default hidden behavior on the sphinx rendered scikit-learn.org. See: https://github.com/scikit-learn/scikit-learn/issues/21755 */display: inline-block !important;position: relative;}#sk-container-id-1 div.sk-text-repr-fallback {display: none;}</style><div id=\"sk-container-id-1\" class=\"sk-top-container\"><div class=\"sk-text-repr-fallback\"><pre>LogisticRegression(solver=&#x27;liblinear&#x27;)</pre><b>In a Jupyter environment, please rerun this cell to show the HTML representation or trust the notebook. <br />On GitHub, the HTML representation is unable to render, please try loading this page with nbviewer.org.</b></div><div class=\"sk-container\" hidden><div class=\"sk-item\"><div class=\"sk-estimator sk-toggleable\"><input class=\"sk-toggleable__control sk-hidden--visually\" id=\"sk-estimator-id-1\" type=\"checkbox\" checked><label for=\"sk-estimator-id-1\" class=\"sk-toggleable__label sk-toggleable__label-arrow\">LogisticRegression</label><div class=\"sk-toggleable__content\"><pre>LogisticRegression(solver=&#x27;liblinear&#x27;)</pre></div></div></div></div></div>"
      ],
      "text/plain": [
       "LogisticRegression(solver='liblinear')"
      ]
     },
     "execution_count": 10,
     "metadata": {},
     "output_type": "execute_result"
    }
   ],
   "source": [
    "unmitigated_predictor = LogisticRegression(solver=\"liblinear\", fit_intercept=True)\n",
    "unmitigated_predictor.fit(X_train, Y_train)"
   ]
  },
  {
   "cell_type": "markdown",
   "id": "5ff8b721",
   "metadata": {},
   "source": [
    "# Create a FairLearn Metrics Frame"
   ]
  },
  {
   "cell_type": "code",
   "execution_count": 11,
   "id": "ca9c78df",
   "metadata": {},
   "outputs": [],
   "source": [
    "unmit_metric_frame = MetricFrame(metrics={\n",
    "                                    \"accuracy\": skm.accuracy_score,\n",
    "                                    \"selection_rate\": selection_rate,\n",
    "                                    \"count\": count,\n",
    "                                },\n",
    "                                sensitive_features=A_test,\n",
    "                                y_true=Y_test,\n",
    "                                y_pred=unmitigated_predictor.predict(X_test),\n",
    "                                )"
   ]
  },
  {
   "cell_type": "code",
   "execution_count": 12,
   "id": "4c7b29fa",
   "metadata": {},
   "outputs": [
    {
     "data": {
      "text/plain": [
       "accuracy              1.000000\n",
       "selection_rate        0.240786\n",
       "count             13024.000000\n",
       "dtype: float64"
      ]
     },
     "execution_count": 12,
     "metadata": {},
     "output_type": "execute_result"
    }
   ],
   "source": [
    "unmit_metric_frame.overall"
   ]
  },
  {
   "cell_type": "code",
   "execution_count": 13,
   "id": "978cdcb4",
   "metadata": {},
   "outputs": [
    {
     "data": {
      "text/html": [
       "<div>\n",
       "<style scoped>\n",
       "    .dataframe tbody tr th:only-of-type {\n",
       "        vertical-align: middle;\n",
       "    }\n",
       "\n",
       "    .dataframe tbody tr th {\n",
       "        vertical-align: top;\n",
       "    }\n",
       "\n",
       "    .dataframe thead th {\n",
       "        text-align: right;\n",
       "    }\n",
       "</style>\n",
       "<table border=\"1\" class=\"dataframe\">\n",
       "  <thead>\n",
       "    <tr style=\"text-align: right;\">\n",
       "      <th></th>\n",
       "      <th>accuracy</th>\n",
       "      <th>selection_rate</th>\n",
       "      <th>count</th>\n",
       "    </tr>\n",
       "    <tr>\n",
       "      <th>sex</th>\n",
       "      <th></th>\n",
       "      <th></th>\n",
       "      <th></th>\n",
       "    </tr>\n",
       "  </thead>\n",
       "  <tbody>\n",
       "    <tr>\n",
       "      <th>Female</th>\n",
       "      <td>1.0</td>\n",
       "      <td>0.107411</td>\n",
       "      <td>4264.0</td>\n",
       "    </tr>\n",
       "    <tr>\n",
       "      <th>Male</th>\n",
       "      <td>1.0</td>\n",
       "      <td>0.305708</td>\n",
       "      <td>8760.0</td>\n",
       "    </tr>\n",
       "  </tbody>\n",
       "</table>\n",
       "</div>"
      ],
      "text/plain": [
       "         accuracy  selection_rate   count\n",
       "sex                                      \n",
       " Female       1.0        0.107411  4264.0\n",
       " Male         1.0        0.305708  8760.0"
      ]
     },
     "execution_count": 13,
     "metadata": {},
     "output_type": "execute_result"
    }
   ],
   "source": [
    "unmit_metric_frame.by_group"
   ]
  },
  {
   "cell_type": "markdown",
   "id": "488d8143",
   "metadata": {},
   "source": [
    "# Grid Search Bias Mitigation "
   ]
  },
  {
   "cell_type": "markdown",
   "id": "ffc06e1e",
   "metadata": {},
   "source": [
    "set up a grid search for training mitigated models. The grid is used to tune lambda, which impacts the magnitude of bias mitigation applied to the model. This process trains a set of models with varying degrees of mitigation, which creates a set of solutions. "
   ]
  },
  {
   "cell_type": "code",
   "execution_count": 14,
   "id": "d9a2108a",
   "metadata": {},
   "outputs": [],
   "source": [
    "sweep = GridSearch(\n",
    "                    LogisticRegression(solver=\"liblinear\", fit_intercept=True),\n",
    "                    constraints=DemographicParity(),\n",
    "                    grid_size=50,\n",
    "                    )"
   ]
  },
  {
   "cell_type": "code",
   "execution_count": 15,
   "id": "c96c300f",
   "metadata": {},
   "outputs": [],
   "source": [
    "sweep.fit(X_train, Y_train, sensitive_features=A_train)\n"
   ]
  },
  {
   "cell_type": "markdown",
   "id": "06eedd6c",
   "metadata": {},
   "source": [
    "extract the models"
   ]
  },
  {
   "cell_type": "code",
   "execution_count": 16,
   "id": "7799da40",
   "metadata": {},
   "outputs": [
    {
     "data": {
      "text/plain": [
       "[LogisticRegression(solver='liblinear'),\n",
       " LogisticRegression(solver='liblinear'),\n",
       " LogisticRegression(solver='liblinear'),\n",
       " LogisticRegression(solver='liblinear'),\n",
       " LogisticRegression(solver='liblinear'),\n",
       " LogisticRegression(solver='liblinear'),\n",
       " LogisticRegression(solver='liblinear'),\n",
       " LogisticRegression(solver='liblinear'),\n",
       " LogisticRegression(solver='liblinear'),\n",
       " LogisticRegression(solver='liblinear'),\n",
       " LogisticRegression(solver='liblinear'),\n",
       " LogisticRegression(solver='liblinear'),\n",
       " LogisticRegression(solver='liblinear'),\n",
       " LogisticRegression(solver='liblinear'),\n",
       " LogisticRegression(solver='liblinear'),\n",
       " LogisticRegression(solver='liblinear'),\n",
       " LogisticRegression(solver='liblinear'),\n",
       " LogisticRegression(solver='liblinear'),\n",
       " LogisticRegression(solver='liblinear'),\n",
       " LogisticRegression(solver='liblinear'),\n",
       " LogisticRegression(solver='liblinear'),\n",
       " LogisticRegression(solver='liblinear'),\n",
       " LogisticRegression(solver='liblinear'),\n",
       " LogisticRegression(solver='liblinear'),\n",
       " LogisticRegression(solver='liblinear'),\n",
       " LogisticRegression(solver='liblinear'),\n",
       " LogisticRegression(solver='liblinear'),\n",
       " LogisticRegression(solver='liblinear'),\n",
       " LogisticRegression(solver='liblinear'),\n",
       " LogisticRegression(solver='liblinear'),\n",
       " LogisticRegression(solver='liblinear'),\n",
       " LogisticRegression(solver='liblinear'),\n",
       " LogisticRegression(solver='liblinear'),\n",
       " LogisticRegression(solver='liblinear'),\n",
       " LogisticRegression(solver='liblinear'),\n",
       " LogisticRegression(solver='liblinear'),\n",
       " LogisticRegression(solver='liblinear'),\n",
       " LogisticRegression(solver='liblinear'),\n",
       " LogisticRegression(solver='liblinear'),\n",
       " LogisticRegression(solver='liblinear'),\n",
       " LogisticRegression(solver='liblinear'),\n",
       " LogisticRegression(solver='liblinear'),\n",
       " LogisticRegression(solver='liblinear'),\n",
       " LogisticRegression(solver='liblinear'),\n",
       " LogisticRegression(solver='liblinear'),\n",
       " LogisticRegression(solver='liblinear'),\n",
       " LogisticRegression(solver='liblinear'),\n",
       " LogisticRegression(solver='liblinear'),\n",
       " LogisticRegression(solver='liblinear'),\n",
       " LogisticRegression(solver='liblinear')]"
      ]
     },
     "execution_count": 16,
     "metadata": {},
     "output_type": "execute_result"
    }
   ],
   "source": [
    "predictors = sweep.predictors_\n",
    "predictors"
   ]
  },
  {
   "cell_type": "markdown",
   "id": "7884848e",
   "metadata": {},
   "source": [
    "Here, the authors will manually call the metrics methods to calculate model results for the solution space. It is a little clumsy, buts it's a product of how the package is set up. The package does not offer an in-house solution to generate the Pareto set from the produced solution space."
   ]
  },
  {
   "cell_type": "code",
   "execution_count": 17,
   "id": "fb9c686c",
   "metadata": {},
   "outputs": [],
   "source": [
    "errors, disparities = [], []\n",
    "for m in predictors:\n",
    "\n",
    "    def classifier(X):\n",
    "        return m.predict(X)\n",
    "\n",
    "    error = ErrorRate()\n",
    "    error.load_data(X_train, pd.Series(Y_train), sensitive_features=A_train)\n",
    "    disparity = DemographicParity()\n",
    "    disparity.load_data(X_train, pd.Series(Y_train), sensitive_features=A_train)\n",
    "\n",
    "    errors.append(error.gamma(classifier)[0])\n",
    "    disparities.append(disparity.gamma(classifier).max())\n",
    "\n",
    "all_results = pd.DataFrame({\"predictor\": predictors, \"error\": errors, \"disparity\": disparities})"
   ]
  },
  {
   "cell_type": "markdown",
   "id": "78e493ac",
   "metadata": {},
   "source": [
    "Next, the authors use a simple binary non-dominated sort. There are better methods to use out there that can be drawn from other packages and would support more than 2 outcome variables (i.e. many-objective)"
   ]
  },
  {
   "cell_type": "code",
   "execution_count": 18,
   "id": "5aa04721",
   "metadata": {},
   "outputs": [],
   "source": [
    "non_dominated = []\n",
    "for row in all_results.itertuples():\n",
    "    errors_for_lower_or_eq_disparity = all_results[\"error\"][\n",
    "        all_results[\"disparity\"] <= row.disparity\n",
    "    ]\n",
    "    if row.error <= errors_for_lower_or_eq_disparity.min():\n",
    "        non_dominated.append(row.predictor)"
   ]
  },
  {
   "cell_type": "code",
   "execution_count": 19,
   "id": "667ef734",
   "metadata": {},
   "outputs": [
    {
     "data": {
      "text/plain": [
       "[LogisticRegression(solver='liblinear'),\n",
       " LogisticRegression(solver='liblinear'),\n",
       " LogisticRegression(solver='liblinear'),\n",
       " LogisticRegression(solver='liblinear'),\n",
       " LogisticRegression(solver='liblinear'),\n",
       " LogisticRegression(solver='liblinear'),\n",
       " LogisticRegression(solver='liblinear'),\n",
       " LogisticRegression(solver='liblinear'),\n",
       " LogisticRegression(solver='liblinear'),\n",
       " LogisticRegression(solver='liblinear'),\n",
       " LogisticRegression(solver='liblinear'),\n",
       " LogisticRegression(solver='liblinear'),\n",
       " LogisticRegression(solver='liblinear'),\n",
       " LogisticRegression(solver='liblinear'),\n",
       " LogisticRegression(solver='liblinear'),\n",
       " LogisticRegression(solver='liblinear'),\n",
       " LogisticRegression(solver='liblinear'),\n",
       " LogisticRegression(solver='liblinear'),\n",
       " LogisticRegression(solver='liblinear'),\n",
       " LogisticRegression(solver='liblinear'),\n",
       " LogisticRegression(solver='liblinear'),\n",
       " LogisticRegression(solver='liblinear'),\n",
       " LogisticRegression(solver='liblinear'),\n",
       " LogisticRegression(solver='liblinear'),\n",
       " LogisticRegression(solver='liblinear'),\n",
       " LogisticRegression(solver='liblinear'),\n",
       " LogisticRegression(solver='liblinear')]"
      ]
     },
     "execution_count": 19,
     "metadata": {},
     "output_type": "execute_result"
    }
   ],
   "source": [
    "non_dominated"
   ]
  },
  {
   "cell_type": "markdown",
   "id": "5c455a34",
   "metadata": {},
   "source": [
    "Setting up the results, starting with the unmitigated model"
   ]
  },
  {
   "cell_type": "code",
   "execution_count": 20,
   "id": "a64305e2",
   "metadata": {},
   "outputs": [],
   "source": [
    "predictions = {\"unmitigated\": unmitigated_predictor.predict(X_test)}\n",
    "metric_frames = {\"unmitigated\": unmit_metric_frame}"
   ]
  },
  {
   "cell_type": "markdown",
   "id": "f05146e8",
   "metadata": {},
   "source": [
    "Gettings metrics frames for each of the non-dominated mitigated model "
   ]
  },
  {
   "cell_type": "code",
   "execution_count": 21,
   "id": "dabd16fe",
   "metadata": {},
   "outputs": [],
   "source": [
    "for i in range(len(non_dominated)):\n",
    "    key = \"dominant_model_{0}\".format(i)\n",
    "    predictions[key] = non_dominated[i].predict(X_test)\n",
    "\n",
    "    metric_frames[key] = MetricFrame(\n",
    "        metrics={\n",
    "            \"accuracy\": skm.accuracy_score,\n",
    "            \"selection_rate\": selection_rate,\n",
    "            \"count\": count,\n",
    "        },\n",
    "        sensitive_features=A_test,\n",
    "        y_true=Y_test,\n",
    "        y_pred=predictions[key],\n",
    "    )"
   ]
  },
  {
   "cell_type": "markdown",
   "id": "2f910d4b",
   "metadata": {},
   "source": [
    "Here we can see the values from the final results from the models"
   ]
  },
  {
   "cell_type": "code",
   "execution_count": 22,
   "id": "0565f5cb",
   "metadata": {},
   "outputs": [],
   "source": [
    "x = [metric_frame.overall[\"accuracy\"] for metric_frame in metric_frames.values()]\n",
    "y = [\n",
    "    metric_frame.difference()[\"selection_rate\"]\n",
    "    for metric_frame in metric_frames.values()\n",
    "]"
   ]
  },
  {
   "cell_type": "markdown",
   "id": "e155c1de",
   "metadata": {},
   "source": [
    "Accuracy"
   ]
  },
  {
   "cell_type": "code",
   "execution_count": 23,
   "id": "42f61054",
   "metadata": {},
   "outputs": [
    {
     "data": {
      "text/plain": [
       "[1.0,\n",
       " 1.0,\n",
       " 1.0,\n",
       " 1.0,\n",
       " 1.0,\n",
       " 1.0,\n",
       " 1.0,\n",
       " 1.0,\n",
       " 1.0,\n",
       " 1.0,\n",
       " 1.0,\n",
       " 1.0,\n",
       " 1.0,\n",
       " 1.0,\n",
       " 1.0,\n",
       " 1.0,\n",
       " 1.0,\n",
       " 1.0,\n",
       " 1.0,\n",
       " 1.0,\n",
       " 1.0,\n",
       " 1.0,\n",
       " 1.0,\n",
       " 1.0,\n",
       " 1.0,\n",
       " 1.0,\n",
       " 0.9709766584766585,\n",
       " 0.9431818181818182]"
      ]
     },
     "execution_count": 23,
     "metadata": {},
     "output_type": "execute_result"
    }
   ],
   "source": [
    "x"
   ]
  },
  {
   "cell_type": "markdown",
   "id": "c21e5ea4",
   "metadata": {},
   "source": [
    "selection rate"
   ]
  },
  {
   "cell_type": "code",
   "execution_count": 24,
   "id": "d5eb0060",
   "metadata": {},
   "outputs": [
    {
     "data": {
      "text/plain": [
       "[0.1982968807559519,\n",
       " 0.1982968807559519,\n",
       " 0.1982968807559519,\n",
       " 0.1982968807559519,\n",
       " 0.1982968807559519,\n",
       " 0.1982968807559519,\n",
       " 0.1982968807559519,\n",
       " 0.1982968807559519,\n",
       " 0.1982968807559519,\n",
       " 0.1982968807559519,\n",
       " 0.1982968807559519,\n",
       " 0.1982968807559519,\n",
       " 0.1982968807559519,\n",
       " 0.1982968807559519,\n",
       " 0.1982968807559519,\n",
       " 0.1982968807559519,\n",
       " 0.1982968807559519,\n",
       " 0.1982968807559519,\n",
       " 0.1982968807559519,\n",
       " 0.1982968807559519,\n",
       " 0.1982968807559519,\n",
       " 0.1982968807559519,\n",
       " 0.1982968807559519,\n",
       " 0.1982968807559519,\n",
       " 0.1982968807559519,\n",
       " 0.1982968807559519,\n",
       " 0.11104243234213163,\n",
       " 0.03486254251372861]"
      ]
     },
     "execution_count": 24,
     "metadata": {},
     "output_type": "execute_result"
    }
   ],
   "source": [
    "y"
   ]
  },
  {
   "cell_type": "markdown",
   "id": "761d40de",
   "metadata": {},
   "source": [
    "We see that many of the models have the same results as the unmitigates, this is because those models did not recieve a large enough lambda value to improve the model."
   ]
  },
  {
   "cell_type": "markdown",
   "id": "079b50ee",
   "metadata": {},
   "source": [
    "Plot the output"
   ]
  },
  {
   "cell_type": "code",
   "execution_count": 25,
   "id": "fae41b5c",
   "metadata": {},
   "outputs": [
    {
     "data": {
      "image/png": "[encoded data removed]",
      "text/plain": [
       "<Figure size 640x480 with 1 Axes>"
      ]
     },
     "metadata": {},
     "output_type": "display_data"
    }
   ],
   "source": [
    "keys = list(metric_frames.keys())\n",
    "plt.scatter(x, y)\n",
    "for i in range(len(x)):\n",
    "    plt.annotate(keys[i], (x[i] + 0.0003, y[i]))\n",
    "plt.xlabel(\"accuracy\")\n",
    "plt.ylabel(\"selection rate difference\")\n",
    "plt.show()"
   ]
  },
  {
   "cell_type": "code",
   "execution_count": null,
   "id": "cdbf3c07",
   "metadata": {},
   "outputs": [],
   "source": []
  }
 ],
 "metadata": {
  "kernelspec": {
   "display_name": "pareto_mitigation",
   "language": "python",
   "name": "pareto_mitigation"
  },
  "language_info": {
   "codemirror_mode": {
    "name": "ipython",
    "version": 3
   },
   "file_extension": ".py",
   "mimetype": "text/x-python",
   "name": "python",
   "nbconvert_exporter": "python",
   "pygments_lexer": "ipython3",
   "version": "3.9.16"
  }
 },
 "nbformat": 4,
 "nbformat_minor": 5
}
